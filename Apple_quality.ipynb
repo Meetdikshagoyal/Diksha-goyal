{
  "nbformat": 4,
  "nbformat_minor": 0,
  "metadata": {
    "colab": {
      "provenance": []
    },
    "kernelspec": {
      "name": "python3",
      "display_name": "Python 3"
    },
    "language_info": {
      "name": "python"
    }
  },
  "cells": [
    {
      "cell_type": "markdown",
      "source": [
        "# **Import Required library**"
      ],
      "metadata": {
        "id": "lfQufa-7K3du"
      }
    },
    {
      "cell_type": "code",
      "source": [
        "import pandas as pd\n",
        "import numpy as np\n",
        "from sklearn.model_selection import train_test_split, GridSearchCV\n",
        "from sklearn.linear_model import LogisticRegression\n",
        "from sklearn.ensemble import RandomForestClassifier\n",
        "from sklearn.metrics import accuracy_score, confusion_matrix, precision_score, recall_score\n",
        "import matplotlib.pyplot as plt\n",
        "import seaborn as sns"
      ],
      "metadata": {
        "id": "27rRQ3jIK_2i"
      },
      "execution_count": 72,
      "outputs": []
    },
    {
      "cell_type": "markdown",
      "source": [
        "# Load the dataset\n",
        "\n"
      ],
      "metadata": {
        "id": "BRgalc3hLN-r"
      }
    },
    {
      "cell_type": "code",
      "source": [
        "file_path = \"/content/apple_quality.csv\"\n",
        "data = pd.read_csv(file_path)\n",
        "print(data.head())"
      ],
      "metadata": {
        "id": "Lf8uyubzLXsd"
      },
      "execution_count": null,
      "outputs": []
    },
    {
      "cell_type": "markdown",
      "source": [
        "# Feature Engineering\n"
      ],
      "metadata": {
        "id": "zdqWW5xVLcBZ"
      }
    },
    {
      "cell_type": "markdown",
      "source": [
        "### Drop Column which is not used in our prediction"
      ],
      "metadata": {
        "id": "pdINuzDkLmtJ"
      }
    },
    {
      "cell_type": "code",
      "source": [
        "data.drop('A_id', axis=1, inplace=True)\n",
        "print(data.head())"
      ],
      "metadata": {
        "id": "UuOb2NjhLfjR"
      },
      "execution_count": null,
      "outputs": []
    },
    {
      "cell_type": "markdown",
      "source": [
        "### Change Data type of quality from Object to bimary\n",
        "### 0 for bad and 1 for good"
      ],
      "metadata": {
        "id": "XHnt2L_tLk2z"
      }
    },
    {
      "cell_type": "code",
      "source": [
        "# Encode the target variable \"Quality\" into binary values (0 for \"bad\" and 1 for \"good\")\n",
        "data['Quality'] = np.where(data['Quality'] == 'bad', 0, 1)"
      ],
      "metadata": {
        "id": "ZEpqZp5sNB7H"
      },
      "execution_count": null,
      "outputs": []
    },
    {
      "cell_type": "code",
      "source": [
        "print(data.head())"
      ],
      "metadata": {
        "id": "b4hTxqwbSXOc"
      },
      "execution_count": null,
      "outputs": []
    },
    {
      "cell_type": "markdown",
      "source": [
        "### Convert object values to numeric for the \"Acidity\" column\n"
      ],
      "metadata": {
        "id": "-C9fTHToPpwY"
      }
    },
    {
      "cell_type": "code",
      "source": [
        "data['Acidity'] = pd.to_numeric(data['Acidity'], errors='coerce')"
      ],
      "metadata": {
        "id": "dWd9kbTaPwUc"
      },
      "execution_count": null,
      "outputs": []
    },
    {
      "cell_type": "markdown",
      "source": [
        "### Check for null values and drop rows with null values\n"
      ],
      "metadata": {
        "id": "zC4SFjQ4P1iX"
      }
    },
    {
      "cell_type": "code",
      "source": [
        "print(\"Total null values: \", data.isnull().sum().sum())\n",
        "data.dropna(inplace=True)"
      ],
      "metadata": {
        "id": "2wNXf1joQTOl"
      },
      "execution_count": null,
      "outputs": []
    },
    {
      "cell_type": "markdown",
      "source": [
        "### Display information about the DataFrame\n"
      ],
      "metadata": {
        "id": "RXoxNsByQewi"
      }
    },
    {
      "cell_type": "code",
      "source": [
        "print(data.info())"
      ],
      "metadata": {
        "id": "IlACgCTRQZ9X"
      },
      "execution_count": null,
      "outputs": []
    },
    {
      "cell_type": "markdown",
      "source": [
        "# Split dataset into features and labels"
      ],
      "metadata": {
        "id": "bG0fG9zBQrFu"
      }
    },
    {
      "cell_type": "code",
      "source": [
        "X = data.drop('Quality', axis=1)\n",
        "y = data['Quality']\n",
        "X_train, X_test, y_train, y_test = train_test_split(X, y, test_size=0.2, random_state=42)"
      ],
      "metadata": {
        "id": "2n2iGZkhQvX5"
      },
      "execution_count": null,
      "outputs": []
    },
    {
      "cell_type": "markdown",
      "source": [
        "## Train logistic regression models using GridsearchCV"
      ],
      "metadata": {
        "id": "HGP_Y18kQzOQ"
      }
    },
    {
      "cell_type": "code",
      "source": [
        "log_reg_params = {'C': [0.01, 0.1, 1, 10, 100], 'solver': ['liblinear', 'newton-cg', 'lbfgs']}\n",
        "log_reg_grid = GridSearchCV(LogisticRegression(max_iter=1000), log_reg_params, cv=5)\n",
        "log_reg_grid.fit(X_train, y_train)\n",
        "best_log_reg = log_reg_grid.best_estimator_\n",
        "y_pred_log_reg = best_log_reg.predict(X_test)\n",
        "log_reg_accuracy = accuracy_score(y_test, y_pred_log_reg)\n",
        "log_reg_precision = precision_score(y_test, y_pred_log_reg)\n",
        "log_reg_recall = recall_score(y_test, y_pred_log_reg)\n"
      ],
      "metadata": {
        "id": "JnHDttKVQ3se"
      },
      "execution_count": 83,
      "outputs": []
    },
    {
      "cell_type": "markdown",
      "source": [
        "## Train random forest classifiers using GridsearchCV"
      ],
      "metadata": {
        "id": "r7E__R2OT-iN"
      }
    },
    {
      "cell_type": "code",
      "source": [
        "rf_params = {'n_estimators': [100, 300, 500], 'max_depth': [None, 10, 30, 50], 'min_samples_split': [2, 5, 10]}\n",
        "rf_grid = GridSearchCV(RandomForestClassifier(), rf_params, cv=5)\n",
        "rf_grid.fit(X_train, y_train)\n",
        "best_rf = rf_grid.best_estimator_\n",
        "y_pred_rf = best_rf.predict(X_test)\n",
        "rf_accuracy = accuracy_score(y_test, y_pred_rf)\n",
        "rf_precision = precision_score(y_test, y_pred_rf)\n",
        "rf_recall = recall_score(y_test, y_pred_rf)\n",
        "log_reg_conf_matrix = confusion_matrix(y_test, y_pred_log_reg)\n"
      ],
      "metadata": {
        "id": "03EOyhltUA4b"
      },
      "execution_count": 84,
      "outputs": []
    },
    {
      "cell_type": "markdown",
      "source": [
        "# Function to plot confusion matrix\n"
      ],
      "metadata": {
        "id": "uiE9rFYjUx6W"
      }
    },
    {
      "cell_type": "code",
      "source": [
        "def plot_confusion_matrix(y_true, y_pred, title):\n",
        "    cm = confusion_matrix(y_true, y_pred)\n",
        "    plt.figure(figsize=(8, 6))\n",
        "    sns.heatmap(cm, annot=True, cmap='Blues', fmt='g')\n",
        "    plt.xlabel('Predicted labels')\n",
        "    plt.ylabel('True labels')\n",
        "    plt.title(title)\n",
        "    plt.show()"
      ],
      "metadata": {
        "id": "bNO-zVtDU_h5"
      },
      "execution_count": 76,
      "outputs": []
    },
    {
      "cell_type": "markdown",
      "source": [
        "# Plot confusion matrices for each model"
      ],
      "metadata": {
        "id": "jiVZ1NJOWvxq"
      }
    },
    {
      "cell_type": "code",
      "source": [
        "plot_confusion_matrix(y_test, y_pred_log_reg, 'Confusion Matrix - Logistic Regression')\n",
        "plot_confusion_matrix(y_test, y_pred_rf, 'Confusion Matrix - Random Forest')"
      ],
      "metadata": {
        "colab": {
          "base_uri": "https://localhost:8080/",
          "height": 1000
        },
        "id": "iimAloBfXfsO",
        "outputId": "1804b402-0f55-40be-cb5c-8b52fc627ce2"
      },
      "execution_count": 77,
      "outputs": [
        {
          "output_type": "display_data",
          "data": {
            "text/plain": [
              "<Figure size 800x600 with 2 Axes>"
            ],
            "image/png": "[encoded data removed]"
          },
          "metadata": {}
        },
        {
          "output_type": "display_data",
          "data": {
            "text/plain": [
              "<Figure size 800x600 with 2 Axes>"
            ],
            "image/png": "[encoded data removed]"
          },
          "metadata": {}
        }
      ]
    },
    {
      "cell_type": "markdown",
      "source": [
        "# Print accuracies\n"
      ],
      "metadata": {
        "id": "63rQSEh3XqC_"
      }
    },
    {
      "cell_type": "code",
      "source": [
        "print(\"Logistic Regression Accuracy:\", log_reg_accuracy)\n",
        "print(\"Logistic Regression Precision:\", log_reg_precision)\n",
        "print(\"Logistic Regression Recall:\", log_reg_recall)\n",
        "print(\"Random Forest Accuracy:\", rf_accuracy)\n",
        "print(\"Random Forest Precision:\", rf_precision)\n",
        "print(\"Random Forest Recall:\", rf_recall)"
      ],
      "metadata": {
        "colab": {
          "base_uri": "https://localhost:8080/"
        },
        "id": "Yh75mveJXwJ7",
        "outputId": "f3f445db-c656-4c18-9d25-b51f9fc69fdc"
      },
      "execution_count": 78,
      "outputs": [
        {
          "output_type": "stream",
          "name": "stdout",
          "text": [
            "Logistic Regression Accuracy: 0.75375\n",
            "Logistic Regression Precision: 0.7537688442211056\n",
            "Logistic Regression Recall: 0.7518796992481203\n",
            "Random Forest Accuracy: 0.9125\n",
            "Random Forest Precision: 0.9102244389027432\n",
            "Random Forest Recall: 0.9147869674185464\n"
          ]
        }
      ]
    }
  ]
}